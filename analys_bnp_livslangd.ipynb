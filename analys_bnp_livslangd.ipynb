{
 "cells": [
  {
   "cell_type": "markdown",
   "id": "36a4a99a",
   "metadata": {},
   "source": [
    "## Analys av Sambandet Mellan BNP per Capita och Förväntad Livslängd"
   ]
  },
  {
   "cell_type": "markdown",
   "id": "1198642f",
   "metadata": {},
   "source": [
    "## Inledning\n",
    "Denna notebook utforskar sambandet mellan BNP per capita och förväntad livslängd över olika länder. Analysen är grundad på två datasets: ett för BNP per capita och ett annat för förväntad livslängd."
   ]
  },
  {
   "cell_type": "code",
   "execution_count": null,
   "id": "15e9a1a4",
   "metadata": {},
   "outputs": [],
   "source": [
    "import pandas as pd\n",
    "import matplotlib.pyplot as plt\n",
    "import seaborn as sns\n",
    "\n",
    "%matplotlib inline"
   ]
  },
  {
   "cell_type": "markdown",
   "id": "8763a7ad",
   "metadata": {},
   "source": [
    "## Datainläsning och Förberedelse"
   ]
  },
  {
   "cell_type": "code",
   "execution_count": null,
   "id": "7e39ef63",
   "metadata": {},
   "outputs": [],
   "source": [
    "# Ladda in datasets\n",
    "life_expectancy_path = 'LifeExpectancyData.csv'\n",
    "gdp_per_capita_path = 'gdp_per_capita.csv'\n",
    "\n",
    "life_expectancy_data = pd.read_csv(life_expectancy_path)\n",
    "gdp_per_capita = pd.read_csv(gdp_per_capita_path)\n",
    "\n",
    "# Förbered data\n",
    "life_expectancy_df = life_expectancy_data[['Country', 'Year', 'Life expectancy ']].rename(columns={'Life expectancy ': 'Life_expectancy'})\n",
    "gdp_per_capita_df = gdp_per_capita.melt(id_vars=['Country Name'], var_name='Year', value_name='GDP_per_capita', value_vars=gdp_per_capita.columns[2:-1])\n",
    "gdp_per_capita_df['Year'] = gdp_per_capita_df['Year'].astype(int)\n",
    "\n",
    "# Sammanfoga datasets\n",
    "merged_df = pd.merge(life_expectancy_df, gdp_per_capita_df, left_on=['Country', 'Year'], right_on=['Country Name', 'Year'], how='inner').drop('Country Name', axis=1)"
   ]
  },
  {
   "cell_type": "markdown",
   "id": "8626cf90",
   "metadata": {},
   "source": [
    "## Data Cleaning"
   ]
  },
  {
   "cell_type": "markdown",
   "id": "34cb1c53",
   "metadata": {},
   "source": [
    "Under datarengöringsfasen behandlades saknade värden genom att fylla dem med medelvärdet. BNP per capita-datasetet omstrukturerades från brett till långt format för enkel analys över tid. Endast relevanta kolumner behölls för att fokusera på variabler av intresse för undersökningen."
   ]
  },
  {
   "cell_type": "code",
   "execution_count": null,
   "id": "19fb1aaf",
   "metadata": {},
   "outputs": [],
   "source": [
    "\n",
    "\n",
    "# Fyll saknade värden med medelvärdet för numeriska kolumner.\n",
    "life_expectancy_data.fillna(life_expectancy_data.mean(numeric_only=True), inplace=True)\n",
    "gdp_per_capita.fillna(gdp_per_capita.mean(numeric_only=True), inplace=True)\n",
    "\n",
    "# Transformera BNP per capita-datasetet från bred till lång format\n",
    "gdp_per_capita_long = gdp_per_capita.melt(id_vars=['Country Name', 'Code'], var_name='Year', value_name='GDP Per Capita')\n",
    "gdp_per_capita_long['Year'] = pd.to_numeric(gdp_per_capita_long['Year'], errors='coerce')\n",
    "gdp_per_capita_long.dropna(subset=['Year'], inplace=True)  \n",
    "gdp_per_capita_long['Year'] = gdp_per_capita_long['Year'].astype(int)\n",
    "\n",
    "# Slår ihop datasets på 'Country' och 'Year'\n",
    "merged_data = pd.merge(life_expectancy_data, gdp_per_capita_long, left_on=['Country', 'Year'], right_on=['Country Name', 'Year'], how='inner')\n",
    "columns_to_keep = ['Country', 'Year', 'Life expectancy ', 'GDP', 'GDP Per Capita', 'Status']\n",
    "\n",
    "# Filtrera det sammanslagna datasetet för att behålla endast de relevanta kolumnerna\n",
    "cleaned_data = merged_data[columns_to_keep]\n",
    "\n",
    "# Spara cleaned dataset\n",
    "cleaned_data.to_csv('/Users/p/Desktop/AI_Dev/Python forts/Pandas/cleaned_data.csv', index=False)\n"
   ]
  },
  {
   "cell_type": "markdown",
   "id": "0b0bcf81",
   "metadata": {},
   "source": [
    "## Visualisering av sambandet mellan BNP per Capita och Förväntad Livslängd\n"
   ]
  },
  {
   "cell_type": "code",
   "execution_count": null,
   "id": "71dbcfe2",
   "metadata": {},
   "outputs": [],
   "source": [
    "\n",
    "correlation = cleaned_data[['Life expectancy ', 'GDP Per Capita']].corr()\n",
    "\n",
    "# Visualisering\n",
    "sns.set_theme(style=\"whitegrid\")\n",
    "plt.figure(figsize=(10, 6))\n",
    "\n",
    "# Scatter plot för att visa sambandet mellan BNP per capita och förväntad livslängd\n",
    "sns.scatterplot(data=cleaned_data, x='GDP Per Capita', y='Life expectancy ', alpha=0.6)\n",
    "plt.title('Sambandet mellan BNP per Capita och Förväntad Livslängd')\n",
    "plt.xlabel('BNP per Capita (USD)')\n",
    "plt.ylabel('Förväntad Livslängd (År)')\n",
    "\n",
    "# Använder en logaritmisk skala för x-axeln för att bättre visa datan\n",
    "plt.xscale('log')\n",
    "plt.grid(True, which=\"both\", ls=\"--\")\n",
    "plt.show()\n",
    "\n",
    "#correlation matrix\n",
    "correlation\n"
   ]
  },
  {
   "cell_type": "markdown",
   "id": "8a373370",
   "metadata": {},
   "source": [
    "Denna kod genererar en scatter plot som visar sambandet mellan BNP per capita och förväntad livslängd för olika länder. Scatter plotten använder en logaritmisk skala för x-axeln för att bättre visa datan och inkluderar en grid för ökad tydlighet. Dessutom beräknas korrelationskoefficienten för att kvantifiera styrkan i sambandet mellan de två variablerna."
   ]
  },
  {
   "cell_type": "markdown",
   "id": "c2d86445",
   "metadata": {},
   "source": [
    "# Dataanalys"
   ]
  },
  {
   "cell_type": "code",
   "execution_count": null,
   "id": "6a3c39d9",
   "metadata": {},
   "outputs": [],
   "source": [
    "# Korrigera kolumnnamnen\n",
    "correlation = cleaned_data[['Life expectancy ', 'GDP Per Capita']].corr()\n",
    "\n",
    "# Visualisering\n",
    "sns.set_theme(style=\"whitegrid\")\n",
    "plt.figure(figsize=(10, 6))\n",
    "sns.scatterplot(data=cleaned_data, x='GDP Per Capita', y='Life expectancy ', alpha=0.6)\n",
    "plt.title('Sambandet mellan BNP per Capita och Förväntad Livslängd')\n",
    "plt.xlabel('BNP per Capita (USD)')\n",
    "plt.ylabel('Förväntad Livslängd (År)')\n",
    "plt.xscale('log')\n",
    "plt.grid(True, which=\"both\", ls=\"--\")\n",
    "plt.show()\n",
    "\n",
    "# Visa korrelationsmatrisen\n",
    "correlation\n"
   ]
  },
  {
   "cell_type": "markdown",
   "id": "f4de277b",
   "metadata": {},
   "source": [
    "## Diskussion\n",
    "Analysen visar på ett positivt samband mellan BNP per capita och förväntad livslängd, vilket indikerar att högre ekonomiskt välstånd kan associeras med bättre hälsa och längre livslängd. Detta samband är dock inte perfekt och det finns variationer som kan bero på andra faktorer som hälsopolitik, tillgång till vård och livsstil."
   ]
  },
  {
   "cell_type": "markdown",
   "id": "a77c5dec",
   "metadata": {},
   "source": [
    "## Analys av Förväntad Livslängd och dess Samband med BNP per Capita\n"
   ]
  },
  {
   "cell_type": "markdown",
   "id": "aaedc426",
   "metadata": {},
   "source": [
    "I detta avsnitt utforskar vi sambandet mellan förväntad livslängd och BNP per capita genom att analysera data från olika länder. Analysen inkluderar beräkning av korrelation för att identifiera styrkan och riktningen på sambandet mellan dessa två variabler. Genom att använda visualiseringstekniker som scatterplots har vi belyst hur ekonomisk välstånd, mätt genom BNP per capita, påverkar folkhälsan, särskilt den förväntade livslängden. Vidare identifierar vi länder vars förväntade livslängd avviker positivt från genomsnittet med mer än en standardavvikelse, vilket ger insikter i hur vissa nationer överträffar andra trots liknande ekonomiska förutsättningar."
   ]
  },
  {
   "cell_type": "code",
   "execution_count": null,
   "id": "fadfe0cd",
   "metadata": {},
   "outputs": [],
   "source": [
    "\n",
    "# Ladda in den rensade datan\n",
    "cleaned_data = pd.read_csv('/Users/p/Desktop/AI_Dev/Python forts/Pandas/cleaned_data.csv')\n",
    "\n",
    "# Fortsätt med beräkningarna\n",
    "mean_life_expectancy = cleaned_data['Life expectancy '].mean()\n",
    "std_life_expectancy = cleaned_data['Life expectancy '].std()\n",
    "\n",
    "# Identifiera länder med livslängd en standardavvikelse över medelvärdet\n",
    "countries_above_std = cleaned_data[cleaned_data['Life expectancy '] > mean_life_expectancy + std_life_expectancy]\n",
    "\n",
    "# Beräkna medelvärde och standardavvikelse för BNP per Capita för vidare analys\n",
    "mean_gdp_per_capita = cleaned_data['GDP Per Capita'].mean()\n",
    "std_gdp_per_capita = cleaned_data['GDP Per Capita'].std()\n",
    "\n",
    "# Visa grundläggande statistik och de första raderna i countries_above_std för granskning\n",
    "print(mean_life_expectancy, std_life_expectancy)\n",
    "print(countries_above_std.head())\n",
    "print(mean_gdp_per_capita, std_gdp_per_capita)\n"
   ]
  },
  {
   "cell_type": "markdown",
   "id": "b79d83ff",
   "metadata": {},
   "source": [
    "Vår analys visar att länder med högre BNP per capita, såsom Australien, tenderar att ha en högre förväntad livslängd, vilket understryker sambandet mellan ekonomisk utveckling och folkhälsa. Detta framhäver vikten av socioekonomiska investeringar för att förbättra livslängden och minska globala hälsoklyftor."
   ]
  },
  {
   "cell_type": "markdown",
   "id": "b421455c",
   "metadata": {},
   "source": [
    "## Ekonomisk Rikedom kontra Förväntad Livslängd\n"
   ]
  },
  {
   "cell_type": "markdown",
   "id": "1732c5be",
   "metadata": {},
   "source": [
    "I denna analys utforskar vi om högre BNP och BNP per capita direkt korrelerar med längre förväntad livslängd. Vi granskar länder med hög förväntad livslängd men relativt låg ekonomisk output för att identifiera om andra faktorer än ekonomisk rikedom bidrar till folkhälsan.\n",
    "\n"
   ]
  },
  {
   "cell_type": "code",
   "execution_count": null,
   "id": "c80534f4",
   "metadata": {},
   "outputs": [],
   "source": [
    "# Identifiera länder med förväntad livslängd över medel men BNP per capita under medel\n",
    "higher_life_expectancy = cleaned_data[cleaned_data['Life expectancy '] > cleaned_data['Life expectancy '].mean()]\n",
    "lower_gdp = higher_life_expectancy[higher_life_expectancy['GDP Per Capita'] < cleaned_data['GDP Per Capita'].mean()]\n",
    "\n",
    "# Visualisera resultaten\n",
    "\n",
    "sns.scatterplot(data=lower_gdp, x='GDP Per Capita', y='Life expectancy ', hue='Status')\n",
    "plt.title('Hög Förväntad Livslängd trots Låg BNP per Capita')\n",
    "plt.xlabel('BNP per Capita (USD)')\n",
    "plt.ylabel('Förväntad Livslängd (År)')\n",
    "plt.show()\n",
    "\n",
    "# Skriv ut länder som uppfyller kriterierna\n",
    "print(lower_gdp[['Country', 'Year', 'Life expectancy ', 'GDP Per Capita']])\n"
   ]
  },
  {
   "cell_type": "markdown",
   "id": "e928e998",
   "metadata": {},
   "source": [
    "Vår analys avslöjar att länder som Albanien och Vanuatu uppnår en förvånansvärt hög förväntad livslängd trots att de har en BNP per capita under genomsnittet, vilket pekar på att ekonomisk rikedom inte är den enda faktorn för god folkhälsa. Detta understryker betydelsen av andra faktorer som utbildning, tillgång till hälsovård och samhällsstöd, vilket kan ha en stark påverkan på livslängden. Dessa insikter belyser vikten av att utveckla hälsofrämjande strategier som tar hänsyn till en bredare uppsättning sociala och ekonomiska förhållanden."
   ]
  }
 ],
 "metadata": {
  "kernelspec": {
   "display_name": "venv",
   "language": "python",
   "name": "python3"
  },
  "language_info": {
   "codemirror_mode": {
    "name": "ipython",
    "version": 3
   },
   "file_extension": ".py",
   "mimetype": "text/x-python",
   "name": "python",
   "nbconvert_exporter": "python",
   "pygments_lexer": "ipython3",
   "version": "3.11.5"
  }
 },
 "nbformat": 4,
 "nbformat_minor": 5
}
